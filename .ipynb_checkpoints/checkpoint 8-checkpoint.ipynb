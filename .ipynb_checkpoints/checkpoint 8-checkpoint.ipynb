{
 "cells": [
  {
   "cell_type": "code",
   "execution_count": 59,
   "id": "9740cb7b",
   "metadata": {},
   "outputs": [],
   "source": [
    "Shopping_list= []"
   ]
  },
  {
   "cell_type": "code",
   "execution_count": 54,
   "id": "663a4202",
   "metadata": {},
   "outputs": [],
   "source": [
    "def menu():\n",
    "    print(\"Hello, welcome to My Groceries\")\n",
    "    option = input(\"Do you want to add, remove or view items   \")\n",
    "    if option == \"add\":\n",
    "        value = input(\"what would you like to add ?(range(5))  \")\n",
    "        Shopping_list.append(value)\n",
    "        return(value)\n",
    "    elif option == \"remove\":\n",
    "        value = input(\"what would you like to remove\")\n",
    "        Shopping_list.remove(value)\n",
    "        return(value)\n",
    "    else:\n",
    "        print(Shopping_list)\n",
    "                      "
   ]
  },
  {
   "cell_type": "code",
   "execution_count": 80,
   "id": "40c42298",
   "metadata": {},
   "outputs": [
    {
     "name": "stdout",
     "output_type": "stream",
     "text": [
      "Hello, welcome to My Groceries\n",
      "Do you want to add, remove or view items   add\n",
      "what would you like to add ?(range(5))  egg\n"
     ]
    },
    {
     "data": {
      "text/plain": [
       "'egg'"
      ]
     },
     "execution_count": 80,
     "metadata": {},
     "output_type": "execute_result"
    }
   ],
   "source": [
    "menu()\n"
   ]
  },
  {
   "cell_type": "code",
   "execution_count": 79,
   "id": "f762f807",
   "metadata": {},
   "outputs": [
    {
     "ename": "SyntaxError",
     "evalue": "invalid syntax (Temp/ipykernel_3268/366436603.py, line 5)",
     "output_type": "error",
     "traceback": [
      "\u001b[1;36m  File \u001b[1;32m\"C:\\Users\\ajix\\AppData\\Local\\Temp/ipykernel_3268/366436603.py\"\u001b[1;36m, line \u001b[1;32m5\u001b[0m\n\u001b[1;33m    elif:\u001b[0m\n\u001b[1;37m        ^\u001b[0m\n\u001b[1;31mSyntaxError\u001b[0m\u001b[1;31m:\u001b[0m invalid syntax\n"
     ]
    }
   ],
   "source": [
    "while True:\n",
    "    menu = input(\"would you like to add, remove or view your list ? (Q to quit):   \")\n",
    "    if menu.upper() == \"Q\":\n",
    "        break\n",
    "    elif:\n",
    "        menu.lower == \"add\":\n",
    "            Shopping_list.append(\" \")\n",
    "            return(menu.lower)\n",
    "    elif:\n",
    "        menu.lower== \"remove\":\n",
    "            shopping_list.remove(\" \")\n",
    "            return(menu.lower)\n",
    "    else:\n",
    "        print(Shopping_list)"
   ]
  },
  {
   "cell_type": "code",
   "execution_count": null,
   "id": "6a91bef4",
   "metadata": {},
   "outputs": [
    {
     "name": "stdout",
     "output_type": "stream",
     "text": [
      "\n",
      "Shopping_list APP\n",
      "1.Add item to list\n",
      "2. view list\n",
      "3. remove item from list\n",
      "4. exit\n",
      "enter your choice: 1\n",
      "Enter item name: yam\n",
      "enter item price: 200\n",
      "item added to list\n",
      "\n",
      "Shopping_list APP\n",
      "1.Add item to list\n",
      "2. view list\n",
      "3. remove item from list\n",
      "4. exit\n"
     ]
    }
   ],
   "source": [
    "def display_list(Shopping_list):\n",
    "    if not Shopping_list:\n",
    "        print(\"your list is empty\")\n",
    "    else:\n",
    "        print(\"list: \")\n",
    "        total_price = 0\n",
    "        for item in Shopping_list:\n",
    "            print(f\"{item['name']}: N{item['price']}\")\n",
    "            total_price += item['price']\n",
    "        print(f\"total: N{total_price:.2f}\")\n",
    "def main():\n",
    "    Shopping_list =[]\n",
    "    while True:\n",
    "        print(\"\\nShopping_list APP\")\n",
    "        print(\"1.Add item to list\")\n",
    "        print(\"2. view list\")\n",
    "        print(\"3. remove item from list\")\n",
    "        print(\"4. exit\")\n",
    "        \n",
    "        \n",
    "        choice = input(\"enter your choice: \")\n",
    "        if choice == '1':\n",
    "            item_name = input(\"Enter item name: \")\n",
    "            item_price = float(input(\"enter item price: \"))\n",
    "            Shopping_list.append(item_name)\n",
    "            print('item added to list')\n",
    "        elif choice == '2':\n",
    "            display_list(Shopping_list)\n",
    "        elif choice == '3':\n",
    "            if not Shopping_list:\n",
    "                print(\"your list is empty\")\n",
    "            else:\n",
    "                item_index = int(input(\"enter the item number to remove: \")) - 1\n",
    "                if 0<= item_index < len(Shopping_list):\n",
    "                    removed_item = Shopping_list.pop(item_index)\n",
    "                    print(f\"removed item:(removed_item['name'])\")\n",
    "                else:\n",
    "                    print(\"invalid  item number\")\n",
    "        elif choice == '4':\n",
    "            print(\"Exit the app\")\n",
    "            break\n",
    "        else:\n",
    "            print(\"invalid choice.  Please select a valid option\")\n",
    "if __name__ == \"__main__\":\n",
    "    main()\n",
    "            "
   ]
  },
  {
   "cell_type": "code",
   "execution_count": 75,
   "id": "8b12139e",
   "metadata": {},
   "outputs": [
    {
     "data": {
      "text/plain": [
       "['bread']"
      ]
     },
     "execution_count": 75,
     "metadata": {},
     "output_type": "execute_result"
    }
   ],
   "source": [
    "Shopping_list"
   ]
  },
  {
   "cell_type": "code",
   "execution_count": null,
   "id": "e927d268",
   "metadata": {},
   "outputs": [],
   "source": []
  },
  {
   "cell_type": "code",
   "execution_count": null,
   "id": "d4381db4",
   "metadata": {},
   "outputs": [],
   "source": []
  },
  {
   "cell_type": "code",
   "execution_count": null,
   "id": "9a70e222",
   "metadata": {},
   "outputs": [],
   "source": []
  },
  {
   "cell_type": "code",
   "execution_count": null,
   "id": "7099396c",
   "metadata": {},
   "outputs": [],
   "source": []
  }
 ],
 "metadata": {
  "kernelspec": {
   "display_name": "Python 3 (ipykernel)",
   "language": "python",
   "name": "python3"
  },
  "language_info": {
   "codemirror_mode": {
    "name": "ipython",
    "version": 3
   },
   "file_extension": ".py",
   "mimetype": "text/x-python",
   "name": "python",
   "nbconvert_exporter": "python",
   "pygments_lexer": "ipython3",
   "version": "3.9.7"
  }
 },
 "nbformat": 4,
 "nbformat_minor": 5
}
