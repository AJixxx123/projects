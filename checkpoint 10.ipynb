{
 "cells": [
  {
   "cell_type": "code",
   "execution_count": null,
   "id": "ddbc76b5",
   "metadata": {},
   "outputs": [
    {
     "name": "stdin",
     "output_type": "stream",
     "text": [
      "input the first number   2\n"
     ]
    },
    {
     "name": "stdout",
     "output_type": "stream",
     "text": [
      "Available operations: + , - , * , /\n"
     ]
    },
    {
     "name": "stdin",
     "output_type": "stream",
     "text": [
      "select an operation (+ , - , * , / ) or 'exit' to quit   +\n",
      "input the second number  :  8\n"
     ]
    },
    {
     "name": "stdout",
     "output_type": "stream",
     "text": [
      "2.0 + 8.0 = 10.0\n"
     ]
    },
    {
     "name": "stdin",
     "output_type": "stream",
     "text": [
      "Continue with the result as first number for futhr calculations ? .  YES/NO/QUIT\n",
      " YES\n"
     ]
    },
    {
     "name": "stdout",
     "output_type": "stream",
     "text": [
      "result = (first_number)\n",
      "Available operations: + , - , * , /\n"
     ]
    },
    {
     "name": "stdin",
     "output_type": "stream",
     "text": [
      "select an operation (+ , - , * , / ) or 'exit' to quit   +\n",
      "input the second number  :  9\n"
     ]
    },
    {
     "name": "stdout",
     "output_type": "stream",
     "text": [
      "10.0 + 9.0 = 19.0\n"
     ]
    }
   ],
   "source": [
    "def add(x,y):\n",
    "    return(x + y)\n",
    "\n",
    "def subtract(x,y):\n",
    "    return(x - y)\n",
    "\n",
    "def multiply(x,y):\n",
    "    return(x * y)\n",
    "\n",
    "def divide(x,y):\n",
    "    if y != 0:\n",
    "        return x / y\n",
    "    else:\n",
    "        return f\"error: {x} cannot be divided by {y}\"\n",
    "\n",
    "    \n",
    "\n",
    "#creating a dictionatry that assigns functions to the operation symbol\n",
    "operations = {\"+\":add, \"-\":subtract, \"*\":multiply,\"/\":divide}\n",
    "\n",
    "first_number = float(input(\"input the first number  \"))\n",
    "def operation_symbols(operation):\n",
    "    list = []\n",
    "    for key in operations.keys():\n",
    "        list.append(key)\n",
    "    return list\n",
    "\n",
    "def calculator():\n",
    "    first_number\n",
    "        \n",
    "while True:\n",
    "    print(\"Available operations: + , - , * , /\")\n",
    "    user_input = input(\"select an operation (+ , - , * , / ) or 'exit' to quit  \")\n",
    "    calculator()\n",
    "    if user_input == \"exit\":\n",
    "        break\n",
    "    elif user_input == \"+\" or \"-\" or \"*\" or \"/\":\n",
    "        second_number = float(input(\"input the second number  : \"))\n",
    "    else:\n",
    "        print(\"invalid arithmetic expression\")\n",
    "    if user_input in operations:\n",
    "        calculation_function = operations[user_input]\n",
    "        \n",
    "        answer = calculation_function(first_number, second_number)\n",
    "        \n",
    "        print(f\"{first_number} {user_input} {second_number} = {answer}\")\n",
    "        \n",
    "        should_continue = str(input(\"Continue with the result as first number for futhr calculations ? .  YES/NO/QUIT\\n\"))\n",
    "    else:\n",
    "        print(f\"(user_input) is not allowed\")\n",
    "    if should_continue == \"YES\":\n",
    "        first_number = answer\n",
    "        print(f\"result = (first_number)\")\n",
    "        continue\n",
    "    elif should_continue == \"NO\":\n",
    "        first_number = float(input(\"Enter the first number:  \"))\n",
    "        continue\n",
    "    else:\n",
    "        break\n",
    "        \n",
    "        \n",
    "     \n",
    "    \n",
    "    \n",
    "    "
   ]
  },
  {
   "cell_type": "code",
   "execution_count": null,
   "id": "3774aab1",
   "metadata": {},
   "outputs": [],
   "source": [
    " calculator()\n",
    "\n",
    "          "
   ]
  },
  {
   "cell_type": "code",
   "execution_count": null,
   "id": "48f8c14b",
   "metadata": {},
   "outputs": [],
   "source": []
  }
 ],
 "metadata": {
  "kernelspec": {
   "display_name": "Python 3 (ipykernel)",
   "language": "python",
   "name": "python3"
  },
  "language_info": {
   "codemirror_mode": {
    "name": "ipython",
    "version": 3
   },
   "file_extension": ".py",
   "mimetype": "text/x-python",
   "name": "python",
   "nbconvert_exporter": "python",
   "pygments_lexer": "ipython3",
   "version": "3.12.4"
  }
 },
 "nbformat": 4,
 "nbformat_minor": 5
}
