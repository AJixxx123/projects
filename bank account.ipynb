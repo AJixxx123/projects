{
 "cells": [
  {
   "cell_type": "code",
   "execution_count": 111,
   "id": "82914da1",
   "metadata": {},
   "outputs": [],
   "source": [
    "#creating a class Account with attributes\n",
    "class Account:\n",
    "    def __init__(self, account_holder , account_number , account_balance):\n",
    "        assert account_balance >0\n",
    "        self.account_holder = str(account_holder)\n",
    "        self.account_number = str(account_number)\n",
    "        self.account_balance = float(account_balance)\n",
    "        \n",
    "        \n",
    "#creating methods with the class to perfomr banking operations        \n",
    "    def deposit(self,  amount:float):\n",
    "        if amount > 0:\n",
    "            self.account_balance = float(self.account_balance + amount)\n",
    "            print(f\"deposited amount: {amount}. New balance is {self.account_balance}\")\n",
    "        else:\n",
    "            print(\"deposit amount must be positive\")\n",
    "            \n",
    "    \n",
    "    def withdraw(self, amount: float):\n",
    "        if amount > 0:\n",
    "            if self.account_balance >= amount:\n",
    "                self.account_balance -= amount\n",
    "                print(f\"withdrew amount: {amount}. New balance is {self.account_balance}.\")\n",
    "            else:\n",
    "                print(\"Withdrawal amount must be positive.\")\n",
    "                \n",
    "                \n",
    "                \n",
    "    def check_balance(self):\n",
    "        return self.account_balance\n",
    "\n"
   ]
  },
  {
   "cell_type": "code",
   "execution_count": 112,
   "id": "57db1d45",
   "metadata": {},
   "outputs": [],
   "source": [
    "#creating instances with the account class and my_account as the variable\n",
    "\n",
    "my_account = Account(\"Simi Ajisegbede\",\"0072694702\",300000000)"
   ]
  },
  {
   "cell_type": "code",
   "execution_count": 113,
   "id": "eeb2278d",
   "metadata": {},
   "outputs": [
    {
     "name": "stdout",
     "output_type": "stream",
     "text": [
      "withdrew amount: 200000. New balance is 299800000.0.\n"
     ]
    }
   ],
   "source": [
    "#withdraw from the account\n",
    "my_account.withdraw(200000)"
   ]
  },
  {
   "cell_type": "code",
   "execution_count": 114,
   "id": "cfef423e",
   "metadata": {},
   "outputs": [
    {
     "name": "stdout",
     "output_type": "stream",
     "text": [
      "deposited amount: 200000. New balance is 300000000.0\n"
     ]
    }
   ],
   "source": [
    "#deposit into the account\n",
    "my_account.deposit(200000)"
   ]
  },
  {
   "cell_type": "code",
   "execution_count": 116,
   "id": "a767d7c3",
   "metadata": {},
   "outputs": [
    {
     "data": {
      "text/plain": [
       "300000000.0"
      ]
     },
     "execution_count": 116,
     "metadata": {},
     "output_type": "execute_result"
    }
   ],
   "source": [
    "#check balance\n",
    "my_account.check_balance()"
   ]
  },
  {
   "cell_type": "code",
   "execution_count": 117,
   "id": "f403024c",
   "metadata": {},
   "outputs": [],
   "source": [
    "#creating several instances with the account class\n",
    "account_1= Account(\"ope Ajifola\",\"00098967\",800)"
   ]
  },
  {
   "cell_type": "code",
   "execution_count": 118,
   "id": "69b4bb6e",
   "metadata": {},
   "outputs": [
    {
     "name": "stdout",
     "output_type": "stream",
     "text": [
      "withdrew amount: 500. New balance is 300.0.\n"
     ]
    }
   ],
   "source": [
    "#withdraw from the account\n",
    "account_1.withdraw(500)"
   ]
  },
  {
   "cell_type": "code",
   "execution_count": 119,
   "id": "e33f8225",
   "metadata": {},
   "outputs": [
    {
     "name": "stdout",
     "output_type": "stream",
     "text": [
      "deposited amount: 100. New balance is 400.0\n"
     ]
    }
   ],
   "source": [
    "#deposit into the account\n",
    "account_1.deposit(100)"
   ]
  },
  {
   "cell_type": "code",
   "execution_count": 121,
   "id": "7d96b883",
   "metadata": {},
   "outputs": [
    {
     "data": {
      "text/plain": [
       "400.0"
      ]
     },
     "execution_count": 121,
     "metadata": {},
     "output_type": "execute_result"
    }
   ],
   "source": [
    "#check balance\n",
    "account_1.check_balance()"
   ]
  },
  {
   "cell_type": "code",
   "execution_count": 122,
   "id": "7977f8c4",
   "metadata": {},
   "outputs": [],
   "source": [
    "#creating instances with the account class and my_account as the variable\n",
    "\n",
    "account_2= Account(\"Faith\",\"000000678\",5000)"
   ]
  },
  {
   "cell_type": "code",
   "execution_count": 123,
   "id": "77141c85",
   "metadata": {},
   "outputs": [
    {
     "name": "stdout",
     "output_type": "stream",
     "text": [
      "withdrew amount: 1000. New balance is 4000.0.\n"
     ]
    }
   ],
   "source": [
    "#withdraw from the account\n",
    "account_2.withdraw(1000)"
   ]
  },
  {
   "cell_type": "code",
   "execution_count": 124,
   "id": "f966a772",
   "metadata": {},
   "outputs": [
    {
     "name": "stdout",
     "output_type": "stream",
     "text": [
      "deposited amount: 500. New balance is 4500.0\n"
     ]
    }
   ],
   "source": [
    "#deposit into the account\n",
    "account_2.deposit(500)"
   ]
  },
  {
   "cell_type": "code",
   "execution_count": 125,
   "id": "f1a7ed12",
   "metadata": {},
   "outputs": [
    {
     "data": {
      "text/plain": [
       "4500.0"
      ]
     },
     "execution_count": 125,
     "metadata": {},
     "output_type": "execute_result"
    }
   ],
   "source": [
    "#check balance\n",
    "account_2.check_balance()"
   ]
  },
  {
   "cell_type": "code",
   "execution_count": null,
   "id": "79c2844e",
   "metadata": {},
   "outputs": [],
   "source": []
  }
 ],
 "metadata": {
  "kernelspec": {
   "display_name": "Python 3 (ipykernel)",
   "language": "python",
   "name": "python3"
  },
  "language_info": {
   "codemirror_mode": {
    "name": "ipython",
    "version": 3
   },
   "file_extension": ".py",
   "mimetype": "text/x-python",
   "name": "python",
   "nbconvert_exporter": "python",
   "pygments_lexer": "ipython3",
   "version": "3.12.4"
  }
 },
 "nbformat": 4,
 "nbformat_minor": 5
}
