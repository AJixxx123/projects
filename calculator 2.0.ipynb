{
 "cells": [
  {
   "cell_type": "code",
   "execution_count": 7,
   "id": "baeb6160-5348-460f-b36e-0e4451ff9ff6",
   "metadata": {},
   "outputs": [
    {
     "ename": "SyntaxError",
     "evalue": "invalid syntax (2630995253.py, line 14)",
     "output_type": "error",
     "traceback": [
      "\u001b[1;36m  Cell \u001b[1;32mIn[7], line 14\u001b[1;36m\u001b[0m\n\u001b[1;33m    if not (isinstance(first_number(int,float)) and isinstance(second_number(int,float)):\u001b[0m\n\u001b[1;37m                                                                                        ^\u001b[0m\n\u001b[1;31mSyntaxError\u001b[0m\u001b[1;31m:\u001b[0m invalid syntax\n"
     ]
    }
   ],
   "source": [
    "import math\n",
    " #initialise the dictionary with basic mathemathical operation and functions\n",
    "class calculator:\n",
    "    def __init__(self):\n",
    "        self.operations ={'+':self.add,'-':self.subtract, '*':self.multiply, '/':self.divide}\n",
    "    def  add_operation(self,symbol,function):\n",
    "        self.operation[symbol] = function\n",
    "    def calculate(self, first_number, operator, second_number):\n",
    "        #check if the operator is valid\n",
    "        if operator not in self.operations:\n",
    "            print('invalid operator')\n",
    "            return None\n",
    "        #check if the input is integer\n",
    "        if not (isinstance(first_number(int,float)) and isinstance(second_number(int,float)):\n",
    "            print('invalid input, both values must be integer')\n",
    "            return None\n",
    "        #perform the calculation using corresponding function\n",
    "        try:\n",
    "            result = self.operation[operator](first_number,second_number)\n",
    "            return result\n",
    "        except ZeroDivisionError:\n",
    "            print('Error:Division by zero.')\n",
    "            return None\n",
    "    def add(self,First_number,second_number):\n",
    "        return first_number + second_number\n",
    "\n",
    "    def subtract(self,first_number,second_number):\n",
    "        return first_number - second_number\n",
    "\n",
    "    def multiply(self, first_number,second_number):\n",
    "        return first_number * second_number\n",
    "\n",
    "    def divide(self, first_number,second_number):\n",
    "        if second_number == 0:\n",
    "            raise ZeroDivisionError\n",
    "        return first_number/ second_number\n",
    "\n",
    "\n",
    "    #advanced mathematical operations\n",
    "    def add_advanced_operations(self):\n",
    "        self.add_operation('^',self.exponentiation)\n",
    "        self.add_operation('sqrt',self.square_root)\n",
    "        self.add_operation('log',self.logarithm)\n",
    "\n",
    "    def exponentiation(self,first_number,second_number):\n",
    "        return first_number**second_number\n",
    "\n",
    "    def square_root(self,first_number,second_number):\n",
    "        if first_number <= 0:\n",
    "            print('Error: Cannot calculate negative number')\n",
    "        return math.sqrt(first_number)\n",
    "\n",
    "    def logarithm(self, first_number, second_number):\n",
    "        if first_number <= 0 or second_number <= 0:\n",
    "            print('Error: Cannot calculate negative number')\n",
    "            return None\n",
    "        return math.log(first_number,second_number)\n",
    "\n",
    "#main program\n",
    "while True:\n",
    "    try:\n",
    "        first_number = float(input(\"Enter the first number\"))\n",
    "        operation = input(\"Enter the operation(+,-,*,/,^,sqrt,loh): \")\n",
    "        if operation not in ['+','-','*','/','^','sqrt','log']:\n",
    "            raise ValueError('invalid operation')\n",
    "\n",
    "        if operation =='sqrt' or operation == 'log':\n",
    "            second_number = None\n",
    "        else:\n",
    "            second_number = float(input(\"enter the second number : \"))\n",
    "\n",
    "        if opertion in ['+','-','*','/']:\n",
    "            result = calculator.calculation(first_number,operation,second_number)\n",
    "        elif operation == '^':\n",
    "            result = calculator.power(first_number,second_number)\n",
    "        elif operation == 'sqrt':\n",
    "            result = calculator.square_root(first_number)\n",
    "        elif operation == 'log':\n",
    "            result = calculator.logarithm(first_number)\n",
    "\n",
    "\n",
    "            \n",
    "        \n",
    "\n",
    "        \n"
   ]
  },
  {
   "cell_type": "code",
   "execution_count": null,
   "id": "be5aec0c-43d1-4020-b0c5-dde3b1febe5f",
   "metadata": {},
   "outputs": [],
   "source": [
    "print("
   ]
  }
 ],
 "metadata": {
  "kernelspec": {
   "display_name": "Python 3 (ipykernel)",
   "language": "python",
   "name": "python3"
  },
  "language_info": {
   "codemirror_mode": {
    "name": "ipython",
    "version": 3
   },
   "file_extension": ".py",
   "mimetype": "text/x-python",
   "name": "python",
   "nbconvert_exporter": "python",
   "pygments_lexer": "ipython3",
   "version": "3.12.4"
  }
 },
 "nbformat": 4,
 "nbformat_minor": 5
}
