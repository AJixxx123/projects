{
 "cells": [
  {
   "cell_type": "code",
   "execution_count": null,
   "id": "6a91bef4",
   "metadata": {},
   "outputs": [
    {
     "name": "stdout",
     "output_type": "stream",
     "text": [
      "\n",
      "Shopping_list APP\n",
      "1.Add item to list\n",
      "2. view list\n",
      "3. remove item from list\n",
      "4. exit\n"
     ]
    }
   ],
   "source": [
    "\n",
    "Shopping_list=[]\n",
    "\n",
    "def display_list(Shopping_list):\n",
    "    if not Shopping_list:\n",
    "        print(\"your list is empty\")\n",
    "    else:\n",
    "        print(Shopping_list)\n",
    "        total_price = 0\n",
    "        for item in Shopping_list:\n",
    "            print(f\"{item['name']}: N{item['price']}\")\n",
    "            total_price += item['price']\n",
    "        print(f\"total: N{total_price:.2f}\")\n",
    "def main():\n",
    "    while True:\n",
    "        print(\"\\nShopping_list APP\")\n",
    "        print(\"1.Add item to list\")\n",
    "        print(\"2. view list\")\n",
    "        print(\"3. remove item from list\")\n",
    "        print(\"4. exit\")\n",
    "        \n",
    "        \n",
    "        choice = input(\"enter your choice: \")\n",
    "        if choice == '1':\n",
    "            item_name = input(\"Enter item name: \")\n",
    "            item_price = float(input(f\"enter item price: \"))\n",
    "            Shopping_list.append(item_name)\n",
    "            print('item added to list')\n",
    "        elif choice == '2':\n",
    "            print(Shopping_list)\n",
    "        elif choice == '3':\n",
    "            if not Shopping_list:\n",
    "                print(\"your list is empty\")\n",
    "            else:\n",
    "                item_index = int(input(\"enter the item number to remove: \")) - 1\n",
    "                if 0<= item_index < len(Shopping_list):\n",
    "                    removed_item = Shopping_list.pop(item_index)\n",
    "                    print(f\"removed item:(removed_item['name'])\")\n",
    "                else:\n",
    "                    print(\"invalid  item number\")\n",
    "        elif choice == '4':\n",
    "            print(\"Exit the app\")\n",
    "            break\n",
    "        else:\n",
    "            print(\"invalid choice.  Please select a valid option\")\n",
    "if __name__ == \"__main__\":\n",
    "    main()\n",
    "            "
   ]
  },
  {
   "cell_type": "code",
   "execution_count": 105,
   "id": "e927d268",
   "metadata": {},
   "outputs": [
    {
     "data": {
      "text/plain": [
       "['egg', 'bread']"
      ]
     },
     "execution_count": 105,
     "metadata": {},
     "output_type": "execute_result"
    }
   ],
   "source": [
    "Shopping_list"
   ]
  },
  {
   "cell_type": "code",
   "execution_count": null,
   "id": "d4381db4",
   "metadata": {},
   "outputs": [],
   "source": []
  },
  {
   "cell_type": "code",
   "execution_count": null,
   "id": "9a70e222",
   "metadata": {},
   "outputs": [],
   "source": []
  },
  {
   "cell_type": "code",
   "execution_count": null,
   "id": "7099396c",
   "metadata": {},
   "outputs": [],
   "source": []
  }
 ],
 "metadata": {
  "kernelspec": {
   "display_name": "Python 3 (ipykernel)",
   "language": "python",
   "name": "python3"
  },
  "language_info": {
   "codemirror_mode": {
    "name": "ipython",
    "version": 3
   },
   "file_extension": ".py",
   "mimetype": "text/x-python",
   "name": "python",
   "nbconvert_exporter": "python",
   "pygments_lexer": "ipython3",
   "version": "3.12.4"
  }
 },
 "nbformat": 4,
 "nbformat_minor": 5
}
