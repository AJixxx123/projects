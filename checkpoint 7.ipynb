{
 "cells": [
  {
   "cell_type": "code",
   "execution_count": 1,
   "id": "9247ee56",
   "metadata": {},
   "outputs": [
    {
     "name": "stdout",
     "output_type": "stream",
     "text": [
      "welcome to Python pizza deliveries\n"
     ]
    }
   ],
   "source": [
    "print(\"welcome to Python pizza deliveries\")"
   ]
  },
  {
   "cell_type": "code",
   "execution_count": 7,
   "id": "e51ca435",
   "metadata": {},
   "outputs": [],
   "source": [
    "L=25\n",
    "M=20\n",
    "S=15"
   ]
  },
  {
   "cell_type": "code",
   "execution_count": 71,
   "id": "8d50ec2b",
   "metadata": {},
   "outputs": [],
   "source": [
    "pepperroni_for_large=3\n",
    "pepperroni_for_medium= 3\n",
    "pepperroni_for_small = 2\n"
   ]
  },
  {
   "cell_type": "code",
   "execution_count": 72,
   "id": "9e0d605d",
   "metadata": {},
   "outputs": [],
   "source": [
    "cheese = 1"
   ]
  },
  {
   "cell_type": "code",
   "execution_count": 58,
   "id": "22dbf2a0",
   "metadata": {},
   "outputs": [
    {
     "name": "stdout",
     "output_type": "stream",
     "text": [
      "what size of pizza would you like to have (S,M,L)   L\n",
      "25\n"
     ]
    }
   ],
   "source": [
    "size=(input(\"what size of pizza would you like to have (S,M,L)   \"))\n",
    "if size==\"L\":\n",
    "    print(L)\n",
    "\n"
   ]
  },
  {
   "cell_type": "code",
   "execution_count": 80,
   "id": "38815cce",
   "metadata": {},
   "outputs": [
    {
     "name": "stdout",
     "output_type": "stream",
     "text": [
      "25\n"
     ]
    }
   ],
   "source": [
    "\n",
    "size = L = 25\n",
    "print(size)"
   ]
  },
  {
   "cell_type": "code",
   "execution_count": 64,
   "id": "2cf8a727",
   "metadata": {},
   "outputs": [
    {
     "name": "stdout",
     "output_type": "stream",
     "text": [
      "would you like to add pepperroni   Y or N   Y\n",
      "28\n"
     ]
    }
   ],
   "source": [
    "Add_pepperroni = (input(\"would you like to add pepperroni   Y or N   \"))\n",
    "if Add_pepperroni == \"Y\":\n",
    "    print(size + pepperroni_for_large)"
   ]
  },
  {
   "cell_type": "code",
   "execution_count": 66,
   "id": "bcd16675",
   "metadata": {},
   "outputs": [
    {
     "name": "stdout",
     "output_type": "stream",
     "text": [
      "would you like extra cheese  Y or N   N\n",
      "28\n"
     ]
    }
   ],
   "source": [
    "Extra_cheese=input((\"would you like extra cheese  Y or N   \"))\n",
    "if Extra_cheese == \"Y\":\n",
    "    print(size + pepperroni_for_large + cheese)\n",
    "else:\n",
    "    print(size + pepperroni_for_large)"
   ]
  },
  {
   "cell_type": "code",
   "execution_count": 77,
   "id": "b5493bdc",
   "metadata": {},
   "outputs": [],
   "source": [
    "final_bill = size + pepperroni_for_large "
   ]
  },
  {
   "cell_type": "code",
   "execution_count": 78,
   "id": "4235ca59",
   "metadata": {},
   "outputs": [
    {
     "name": "stdout",
     "output_type": "stream",
     "text": [
      "28\n"
     ]
    }
   ],
   "source": [
    "print(final_bill)"
   ]
  },
  {
   "cell_type": "code",
   "execution_count": null,
   "id": "6e567d1c",
   "metadata": {},
   "outputs": [],
   "source": []
  }
 ],
 "metadata": {
  "kernelspec": {
   "display_name": "Python 3 (ipykernel)",
   "language": "python",
   "name": "python3"
  },
  "language_info": {
   "codemirror_mode": {
    "name": "ipython",
    "version": 3
   },
   "file_extension": ".py",
   "mimetype": "text/x-python",
   "name": "python",
   "nbconvert_exporter": "python",
   "pygments_lexer": "ipython3",
   "version": "3.12.4"
  }
 },
 "nbformat": 4,
 "nbformat_minor": 5
}
