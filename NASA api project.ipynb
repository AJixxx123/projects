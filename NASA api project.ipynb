{
 "cells": [
  {
   "cell_type": "markdown",
   "id": "2ccacd20-3c74-4963-99dc-ed4d1ce28b13",
   "metadata": {},
   "source": [
    "In this project we would be answering questions on API\n",
    "1)Go to the NASA API portal and generate your API KEY\r",
    "2)\n",
    "Import the requests package and store your API KEY in variable3)\r\n",
    "Go back to portal website and click on 'browse APIs4)'\r\n",
    "Click on the first dropdown menu, named 'APOD' and read its documentati5)on\r\n",
    "Follow the provided documentation to ask the API endpoint for the astronomy picture of the day. Get then display the image on your notebo6)ok.\r\n",
    "Go through the list of the provided API endpoints once again and select 'Astronomy Picture of the Day' option. Store the results in a pandas dataf7)rame\r\n",
    "Do the necessary data pre-processing tasks on the previous result in order to get a clean dataframe with the following colu*mns :\r\n",
    "Aster*oid ID\r\n",
    "Astero*id name\r\n",
    "The Minimal estimated diameter in K*ilometre\r\n",
    "Absolute_*magnitude\r\n",
    "Relative_velo8)city(km/s)\r\n",
    "Try to export the new dataframe into a CSV file and share it with your colleagues"
   ]
  },
  {
   "cell_type": "code",
   "execution_count": 2,
   "id": "6400805d-6dac-44d1-afc9-b29515b5dc13",
   "metadata": {},
   "outputs": [],
   "source": [
    "#first import all necesarry libraries\n",
    "import requests\n",
    "import json\n",
    "import pandas as pd"
   ]
  },
  {
   "cell_type": "code",
   "execution_count": null,
   "id": "562958d8-ddb2-47ad-b645-8520011cd025",
   "metadata": {},
   "outputs": [],
   "source": []
  }
 ],
 "metadata": {
  "kernelspec": {
   "display_name": "Python 3 (ipykernel)",
   "language": "python",
   "name": "python3"
  },
  "language_info": {
   "codemirror_mode": {
    "name": "ipython",
    "version": 3
   },
   "file_extension": ".py",
   "mimetype": "text/x-python",
   "name": "python",
   "nbconvert_exporter": "python",
   "pygments_lexer": "ipython3",
   "version": "3.12.4"
  }
 },
 "nbformat": 4,
 "nbformat_minor": 5
}
